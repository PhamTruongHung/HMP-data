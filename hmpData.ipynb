{
 "cells": [
  {
   "cell_type": "code",
   "execution_count": null,
   "metadata": {},
   "outputs": [],
   "source": [
    "import pandas as pd\n",
    "import numpy as np\n",
    "import seaborn as sns\n",
    "import matplotlib.pyplot as plt\n",
    "from datetime import datetime\n",
    "\n",
    "import calendar\n",
    "\n",
    "from unidecode import unidecode"
   ]
  },
  {
   "cell_type": "code",
   "execution_count": null,
   "metadata": {},
   "outputs": [],
   "source": [
    "hourlyCheck_df = pd.read_csv (r'HourlyCheck.csv')\n",
    "parameter_df = pd.read_csv (r'Parameter.csv')\n",
    "machine_df = pd.read_csv (r'Machine.csv')\n",
    "system_df = pd.read_csv (r'System.csv')\n",
    "plant_df = pd.read_csv (r'Plant.csv')"
   ]
  },
  {
   "cell_type": "code",
   "execution_count": null,
   "metadata": {},
   "outputs": [],
   "source": [
    "hourlyCheck_df.keys()"
   ]
  },
  {
   "cell_type": "code",
   "execution_count": 14,
   "metadata": {},
   "outputs": [],
   "source": [
    "parameter_df.keys()\n",
    "parameter_df.rename(columns = {'ID':'PARID'}, inplace = True)"
   ]
  },
  {
   "cell_type": "code",
   "execution_count": 15,
   "metadata": {},
   "outputs": [],
   "source": [
    "machine_df.keys()\n",
    "machine_df.rename(columns = {'ID':'MACID'}, inplace = True)"
   ]
  },
  {
   "cell_type": "code",
   "execution_count": 16,
   "metadata": {},
   "outputs": [],
   "source": [
    "system_df.keys()\n",
    "system_df.rename(columns = {'ID':'SYSID'}, inplace = True)"
   ]
  },
  {
   "cell_type": "code",
   "execution_count": 17,
   "metadata": {},
   "outputs": [],
   "source": [
    "plant_df.keys()\n",
    "plant_df.rename(columns = {'ID':'PLANTID'}, inplace = True)"
   ]
  },
  {
   "cell_type": "code",
   "execution_count": 18,
   "metadata": {},
   "outputs": [],
   "source": [
    "hourlyCheck_machine_df = pd.merge(hourlyCheck_df, machine_df, on=[\"MACID\"])\n",
    "# hourlyCheck_machine_df.head()"
   ]
  },
  {
   "cell_type": "code",
   "execution_count": 19,
   "metadata": {},
   "outputs": [],
   "source": [
    "hourlyCheck_machine_system_df = pd.merge(hourlyCheck_machine_df, system_df, on=[\"SYSID\"])\n",
    "# hourlyCheck_machine_system_df.head()"
   ]
  },
  {
   "cell_type": "code",
   "execution_count": 20,
   "metadata": {},
   "outputs": [],
   "source": [
    "hourlyCheck_machine_system_plant_df = pd.merge(hourlyCheck_machine_system_df, plant_df, on=[\"PLANTID\"])\n",
    "# hourlyCheck_machine_system_plant_df.head()"
   ]
  },
  {
   "cell_type": "code",
   "execution_count": 21,
   "metadata": {},
   "outputs": [],
   "source": [
    "len(hourlyCheck_machine_system_plant_df)\n",
    "hourlyCheck_machine_system_plant_df.to_csv(\"fullData.csv\",index=False)"
   ]
  },
  {
   "cell_type": "code",
   "execution_count": 23,
   "metadata": {},
   "outputs": [],
   "source": [
    "machine_system_df = pd.merge(machine_df, system_df, on=[\"SYSID\"])\n",
    "machine_system_plant_df = pd.merge(machine_system_df, plant_df, on=[\"PLANTID\"])\n"
   ]
  },
  {
   "cell_type": "code",
   "execution_count": 26,
   "metadata": {},
   "outputs": [],
   "source": [
    "machine_system_plant_df\n",
    "machine_system_plant_df.to_excel(\"machine_system_plant_df.xlsx\",index=False)\n"
   ]
  }
 ],
 "metadata": {
  "kernelspec": {
   "display_name": "Python 3.9.13 ('spvb')",
   "language": "python",
   "name": "python3"
  },
  "language_info": {
   "codemirror_mode": {
    "name": "ipython",
    "version": 3
   },
   "file_extension": ".py",
   "mimetype": "text/x-python",
   "name": "python",
   "nbconvert_exporter": "python",
   "pygments_lexer": "ipython3",
   "version": "3.9.13"
  },
  "orig_nbformat": 4,
  "vscode": {
   "interpreter": {
    "hash": "ec9fe1517015b6feb452b6bd7096631d80eee7139832873040b1b61b9b14b0e0"
   }
  }
 },
 "nbformat": 4,
 "nbformat_minor": 2
}
